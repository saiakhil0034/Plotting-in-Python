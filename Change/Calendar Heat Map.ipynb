{
 "cells": [
  {
   "cell_type": "code",
   "execution_count": 1,
   "metadata": {},
   "outputs": [
    {
     "name": "stdout",
     "output_type": "stream",
     "text": [
      "3.0.2\n",
      "0.9.0\n"
     ]
    }
   ],
   "source": [
    "import numpy as np\n",
    "import pandas as pd\n",
    "import matplotlib as mpl\n",
    "import matplotlib.pyplot as plt\n",
    "import seaborn as sns\n",
    "import warnings; warnings.filterwarnings(action='once')\n",
    "\n",
    "large = 22; med = 16; small = 12\n",
    "params = {'axes.titlesize': large,\n",
    "          'legend.fontsize': med,\n",
    "          'figure.figsize': (16, 10),\n",
    "          'axes.labelsize': med,\n",
    "          'axes.titlesize': med,\n",
    "          'xtick.labelsize': med,\n",
    "          'ytick.labelsize': med,\n",
    "          'figure.titlesize': large}\n",
    "plt.rcParams.update(params)\n",
    "plt.style.use('seaborn-whitegrid')\n",
    "sns.set_style(\"white\")\n",
    "%matplotlib inline\n",
    "\n",
    "# Version\n",
    "print(mpl.__version__)  #> 3.0.0\n",
    "print(sns.__version__)  #> 0.9.0"
   ]
  },
  {
   "cell_type": "code",
   "execution_count": 3,
   "metadata": {},
   "outputs": [
    {
     "name": "stdout",
     "output_type": "stream",
     "text": [
      "Collecting calmap\n",
      "  Downloading https://files.pythonhosted.org/packages/60/7a/3340f348c4826fad190a265290ade1b7fbfbb311c84e27d82fb43e12d579/calmap-0.0.7-py2.py3-none-any.whl\n",
      "Requirement already satisfied: matplotlib in /Users/suggu/anaconda3/lib/python3.6/site-packages (from calmap) (3.0.2)\n",
      "Requirement already satisfied: numpy in /Users/suggu/anaconda3/lib/python3.6/site-packages (from calmap) (1.16.0)\n",
      "Requirement already satisfied: pandas in /Users/suggu/anaconda3/lib/python3.6/site-packages (from calmap) (0.23.4)\n",
      "Requirement already satisfied: python-dateutil>=2.1 in /Users/suggu/anaconda3/lib/python3.6/site-packages (from matplotlib->calmap) (2.7.5)\n",
      "Requirement already satisfied: pyparsing!=2.0.4,!=2.1.2,!=2.1.6,>=2.0.1 in /Users/suggu/anaconda3/lib/python3.6/site-packages (from matplotlib->calmap) (2.3.1)\n",
      "Requirement already satisfied: kiwisolver>=1.0.1 in /Users/suggu/anaconda3/lib/python3.6/site-packages (from matplotlib->calmap) (1.0.1)\n",
      "Requirement already satisfied: cycler>=0.10 in /Users/suggu/anaconda3/lib/python3.6/site-packages (from matplotlib->calmap) (0.10.0)\n",
      "Requirement already satisfied: pytz>=2011k in /Users/suggu/anaconda3/lib/python3.6/site-packages (from pandas->calmap) (2018.9)\n",
      "Requirement already satisfied: six>=1.5 in /Users/suggu/anaconda3/lib/python3.6/site-packages (from python-dateutil>=2.1->matplotlib->calmap) (1.12.0)\n",
      "Requirement already satisfied: setuptools in /Users/suggu/anaconda3/lib/python3.6/site-packages (from kiwisolver>=1.0.1->matplotlib->calmap) (40.6.3)\n",
      "Installing collected packages: calmap\n",
      "Successfully installed calmap-0.0.7\n"
     ]
    }
   ],
   "source": [
    "!pip install calmap"
   ]
  },
  {
   "cell_type": "code",
   "execution_count": 4,
   "metadata": {},
   "outputs": [],
   "source": [
    "import matplotlib as mpl\n",
    "import calmap\n",
    "\n",
    "# Import Data\n",
    "df = pd.read_csv(\"https://raw.githubusercontent.com/selva86/datasets/master/yahoo.csv\", parse_dates=['date'])\n",
    "df.set_index('date', inplace=True)"
   ]
  },
  {
   "cell_type": "code",
   "execution_count": 11,
   "metadata": {},
   "outputs": [
    {
     "name": "stderr",
     "output_type": "stream",
     "text": [
      "/Users/suggu/anaconda3/lib/python3.6/site-packages/calmap/__init__.py:221: DeprecationWarning: \n",
      ".ix is deprecated. Please use\n",
      ".loc for label based indexing or\n",
      ".iloc for positional indexing\n",
      "\n",
      "See the documentation here:\n",
      "http://pandas.pydata.org/pandas-docs/stable/indexing.html#ix-indexer-is-deprecated\n",
      "  for i in monthticks])\n"
     ]
    },
    {
     "data": {
      "text/plain": [
       "<Figure size 1280x800 with 0 Axes>"
      ]
     },
     "metadata": {},
     "output_type": "display_data"
    },
    {
     "data": {
      "image/png": "[encoded data removed]",
      "text/plain": [
       "<Figure size 1152x720 with 1 Axes>"
      ]
     },
     "metadata": {
      "needs_background": "light"
     },
     "output_type": "display_data"
    }
   ],
   "source": [
    "plt.figure(figsize=(16,10), dpi= 80)\n",
    "calmap.calendarplot(df['2014']['VIX.Close'], fig_kws={'figsize': (16,10)}, yearlabel_kws={'color':'black', 'fontsize':14}, subplot_kws={'title':'Yahoo Stock Prices'})\n",
    "plt.show()"
   ]
  },
  {
   "cell_type": "code",
   "execution_count": null,
   "metadata": {},
   "outputs": [],
   "source": []
  }
 ],
 "metadata": {
  "kernelspec": {
   "display_name": "Python 3",
   "language": "python",
   "name": "python3"
  },
  "language_info": {
   "codemirror_mode": {
    "name": "ipython",
    "version": 3
   },
   "file_extension": ".py",
   "mimetype": "text/x-python",
   "name": "python",
   "nbconvert_exporter": "python",
   "pygments_lexer": "ipython3",
   "version": "3.6.4"
  }
 },
 "nbformat": 4,
 "nbformat_minor": 2
}
